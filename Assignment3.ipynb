{
  "cells": [
    {
      "cell_type": "markdown",
      "metadata": {
        "id": "DMOJD0_jdzzg"
      },
      "source": [
        "# **Computer Vision 2025 Assignment 3: Deep Learning for Perception Tasks**\n",
        "\n",
        "This assignment contains 2 questions. The first question probes understanding of deep learning for classification. The second question requires you to write a short description of a Computer Vision method. You wil need to submit two separate PDF files, one for each question.\n",
        "<br/><br/>"
      ]
    },
    {
      "cell_type": "markdown",
      "metadata": {},
      "source": [
        "## **Question 1: A Simple Classifier *(20 marks, 60%)***\n",
        "\n",
        "For this exercise, we provide demo code showing how to train a network on a small dataset called Fashion-MNIST. Please run through the code *\"tutorial-style\"* to get a sense of what it is doing. Then use the code alongside lecture notes and other resources to understand how to use pytorch libraries to implement, train and use a neural network. For the Fashion-MNIST dataset the labels from 0-9 correspond to various clothing classes so you might find it convenient to **create a python list as follows:**\n",
        "\n",
        "**class_names = ['T-shirt/top', 'Trouser', 'Pullover', 'Dress', 'Coat', 'Sandal', 'Shirt', 'Sneaker', 'Bag', 'Ankle boot']**\n",
        "\n",
        "You will need to answer various questions about the system, how it operates, the results of experiments with it and make modifications to it yourself. You can change the training scheme and the network structure. Organise your own text and code cell to show the answer of each question below. **Detailed requirements:**"
      ]
    },
    {
      "cell_type": "code",
      "execution_count": null,
      "metadata": {},
      "outputs": [],
      "source": [
        "# For Numerical Operations & Handling Arrays/Matrices Efficiently\n",
        "import numpy as np  \n",
        "\n",
        "# For Creating Static, Animated, & Interactive Plots\n",
        "import matplotlib.pyplot as plt  \n",
        "\n",
        "# Provides Time-Related Functions, Useful for Measuring Execution Time or Delays\n",
        "import time  \n",
        "\n",
        "# Functional API for Common Operations like Activation Functions & Loss Calculations\n",
        "import torch.nn.functional as F\n",
        "\n",
        "# Tools for Controlling Output Display in Jupyter Notebooks\n",
        "from IPython import display  \n",
        "\n",
        "# Import Code Book with Custom Function Definitions\n",
        "from a3code import *\n",
        "\n",
        "# Some Notebook Magic for Displaying Figures\n",
        "%matplotlib inline\n",
        "\n",
        "# Some More Magic For Reloading External Python Modules\n",
        "%load_ext autoreload\n",
        "%autoreload 2\n",
        "%reload_ext autoreload"
      ]
    },
    {
      "cell_type": "markdown",
      "metadata": {},
      "source": [
        "<br/>\n",
        "\n",
        "### **Q1.1 *(1 Point)***\n",
        "\n",
        "Extract 3 images of different types of clothing from the training dataset, print out the size/shape of the training images, and display the three with their corresponding labels."
      ]
    },
    {
      "cell_type": "code",
      "execution_count": null,
      "metadata": {},
      "outputs": [],
      "source": [
        "# Download Training Data from TorchVision's Open FashionMNIST Dataset\n",
        "training_data = datasets.FashionMNIST(\n",
        "    root=\"Data\",           # Directory to Store the Dataset\n",
        "    train=True,            # Specifies this is the Training Set\n",
        "    download=True,         # Downloads the Dataset if Not Already Present\n",
        "    transform=ToTensor(),  # Converts Images to PyTorch Tensors & Normalises Pixel Values\n",
        ")\n",
        "\n",
        "# Download Test Data from the Same Dataset\n",
        "test_data = datasets.FashionMNIST(\n",
        "    root=\"Data\",           # Directory to Store the Dataset\n",
        "    train=False,           # Specifies this is the Test Set\n",
        "    download=True,         # Downloads the Dataset if Not Already Present\n",
        "    transform=ToTensor(),  # Converts Images to PyTorch Tensors\n",
        ")\n",
        "\n",
        "# Number of Samples Per Batch to Load During Training/Testing\n",
        "batch_size = 64\n",
        "\n",
        "# Create Data Loaders to Iterate Over the Dataset in Batches\n",
        "train_dataloader = DataLoader(training_data, batch_size=batch_size)  # Loads Training Data in Batches\n",
        "test_dataloader = DataLoader(test_data, batch_size=batch_size)       # Loads Test Data in Batches\n",
        "\n",
        "# Iterate Through the Test DataLoader to Inspect the Shape of a Batch\n",
        "for X, y in test_dataloader:\n",
        "    print(\"Shape of X [N, C, H, W]: \", X.shape)  # N = batch size, C = channels, H = height, W = width\n",
        "    print(\"Shape of y: \", y.shape, y.dtype)      # y Contains the Labels for the Batch\n",
        "    break\n",
        "\n",
        "# Put Code Here\n",
        "# Add in a code cell to inspect the training data, as per Q1.1. Each element of the training_data structure has a grayscale image (which you can use plt.imshow(img[0,:,:]) to display, just like you did in previous assignments.  "
      ]
    },
    {
      "cell_type": "markdown",
      "metadata": {},
      "source": [
        "<br/>\n",
        "\n",
        "### **Q1.2 *(2 Points)***\n",
        "\n",
        "Run the training code for 10 epochs, for different values of the learning rate. **Fill in the table below and plot the loss curves for each experiment:**\n",
        "\n",
        "|Lr|Accuracy|\n",
        "|---|---|\n",
        "|1   |      |\n",
        "|0.1|          |\n",
        "|0.01|         |\n",
        "|0.001  |        |"
      ]
    },
    {
      "cell_type": "code",
      "execution_count": null,
      "metadata": {},
      "outputs": [],
      "source": [
        "# Get CPU or GPU Device for Training\n",
        "device = \"cuda\" if torch.cuda.is_available() else \"cpu\"\n",
        "\n",
        "# Display which Device is Being Used\n",
        "print(\"Using {} device\".format(device))  \n",
        "\n",
        "# Define a Simple Feedforward Neural Network Model\n",
        "class NeuralNetwork(nn.Module):\n",
        "    # Define the New Constructor\n",
        "    def __init__(self):\n",
        "        super(NeuralNetwork, self).__init__()  # Call the Constructor of nn.Module\n",
        "        self.flatten = nn.Flatten()            # Flattens Input from (N, 1, 28, 28) to (N, 784)\n",
        "        self.linear_relu_stack = nn.Sequential(\n",
        "            nn.Linear(28*28, 512),  # First Fully Connected Layer (Input: 784 -> Output: 512)\n",
        "            nn.ReLU(),              # ReLU Activation\n",
        "            nn.Linear(512, 512),    # Second Fully Connected Layer\n",
        "            nn.ReLU(),              # ReLU Activation\n",
        "            nn.Linear(512, 10)      # Output Layer (10 Classes for FashionMNIST)\n",
        "        )\n",
        "\n",
        "\n",
        "    # Define the Forward Pass Function\n",
        "    def forward(self, x):\n",
        "        x = self.flatten(x)                  # Flatten the Input\n",
        "        logits = self.linear_relu_stack(x)   # Pass Through the Linear & ReLU Stack\n",
        "        return logits                        # Return Raw Scores (logits)\n",
        "\n",
        "\n",
        "# Instantiate the Model & Move it to the Selected Device (CPU or GPU)\n",
        "model = NeuralNetwork().to(device)\n",
        "print(model)"
      ]
    },
    {
      "cell_type": "code",
      "execution_count": null,
      "metadata": {},
      "outputs": [],
      "source": [
        "# Define the Loss Function & the Optimiser\n",
        "loss_fn = nn.CrossEntropyLoss()\n",
        "optimizer = torch.optim.SGD(model.parameters(), lr=1e-3)"
      ]
    },
    {
      "cell_type": "code",
      "execution_count": null,
      "metadata": {},
      "outputs": [],
      "source": [
        "# Train & Test the Model\n",
        "epochs = 5\n",
        "for t in range(epochs):\n",
        "    print(f\"Epoch {t+1}\\n-------------------------------\")\n",
        "    train(train_dataloader, model, loss_fn, optimizer)\n",
        "    test(test_dataloader, model, loss_fn)\n",
        "print(\"Done!\")"
      ]
    },
    {
      "cell_type": "markdown",
      "metadata": {},
      "source": [
        "<br/>\n",
        "\n",
        "### **Q1.3 *(3 Points)***\n",
        "\n",
        "Report the number of epochs when the network converges *(or number of epochs for the best accuracy, if it fails to converge)*. Fill in the table below and plot the loss curve for each experiment. **Please run the code for more than 10 epochs *(e.g. 50 or 100)* and report when you observe convergence:**\n",
        "\n",
        "|Lr|Accuracy|Epoch|\n",
        "|---|---|---|\n",
        "|1   |      |     |\n",
        "|0.1|          |    |\n",
        "|0.01|         |    |\n",
        "|0.001  |        |     |"
      ]
    },
    {
      "cell_type": "code",
      "execution_count": null,
      "metadata": {},
      "outputs": [],
      "source": [
        "# Insert Code Here"
      ]
    },
    {
      "cell_type": "markdown",
      "metadata": {},
      "source": [
        "<br/>\n",
        "\n",
        "### **Q1.4 *(2 Points)***\n",
        "\n",
        "**Compare the results in table 1 and table 2, what is your observation and your understanding of learning rate?**"
      ]
    },
    {
      "cell_type": "markdown",
      "metadata": {},
      "source": [
        "***Insert Discussion Here***\n",
        "\n",
        "---"
      ]
    },
    {
      "cell_type": "markdown",
      "metadata": {},
      "source": [
        "<br/>\n",
        "\n",
        "### **Q1.5 *(5 Points)***\n",
        "\n",
        "Build a wider network by modifying the code that constructs the network so that the hidden layer(s) contain more perceptrons, and record the accuracy along with the number of trainable parameters in your model.  Now modify the original network to be deeper instead of wider *(**i.e.** by adding more hidden layers)*. Record your accuracy and network size findings. Plot the loss curve for each experiment. Also plot the test accuracy and loss for both the wider and deeper architectures and discuss what you observe. **Write down your conclusions about changing the network structure.**\n",
        "\n",
        "|Structures|Accuracy|Parameters|\n",
        "|---|---|---|\n",
        "|Base   |      ||\n",
        "|Deeper|          ||\n",
        "|Wider|         ||"
      ]
    },
    {
      "cell_type": "code",
      "execution_count": null,
      "metadata": {},
      "outputs": [],
      "source": [
        "# Insert Code"
      ]
    },
    {
      "cell_type": "markdown",
      "metadata": {},
      "source": [
        "***Add Discussion Notes Here***\n",
        "\n",
        "- Discuss what you observe Loss curves & accuracy for network sizes\n",
        "- Disucss what you observe for test accruacy and loss for wider and deeper.\n",
        "- Write down your conclusions about changing the network structure.\n",
        "\n",
        "---"
      ]
    },
    {
      "cell_type": "markdown",
      "metadata": {},
      "source": [
        "<br/>\n",
        "\n",
        "### **Q1.6 *(2 Points)***\n",
        "\n",
        "Calculate the mean of the gradients of the loss to all trainable parameters. Plot the gradients curve for the first 100 training steps. What are your observations? Note that this gradients will be saved with the training weight automatically after you call loss.backwards(). **Hint:** The mean of the gradients decrease."
      ]
    },
    {
      "cell_type": "code",
      "execution_count": null,
      "metadata": {},
      "outputs": [],
      "source": [
        "# Insert Code Here"
      ]
    },
    {
      "cell_type": "markdown",
      "metadata": {},
      "source": [
        "***Add Discussion Notes Here***\n",
        "\n",
        "- Calculate the mean of the gradients of the loss to all trainable parameters. What are your observations? \n",
        "- Hint: The mean of the gradients decrease.\n",
        "\n",
        "---"
      ]
    },
    {
      "cell_type": "markdown",
      "metadata": {},
      "source": [
        "<br/>\n",
        "\n",
        "### **Q1.7 *(5 Points)***\n",
        "\n",
        "For more explanation of q1.7, you could refer to the following simple instructions: https://colab.research.google.com/drive/1XAsyNegGSvMf3_B6MrsXht7-fHqtJ7OW?usp=sharing.\n",
        "\n",
        "Modify the network structure and training/test to use a small convolutional neural network instead of an MLP. Discuss your findings with regard to convergence, accuracy and number of parameters, relative to MLPs. **Hint:** Look at the structure of the CNN in the Workshop 3 examples."
      ]
    },
    {
      "cell_type": "code",
      "execution_count": null,
      "metadata": {},
      "outputs": [],
      "source": [
        "# Insert Code Here"
      ]
    },
    {
      "cell_type": "markdown",
      "metadata": {},
      "source": [
        "***Add Discussion Notes Here***\n",
        "\n",
        "- Discuss your findings with regard to convergence, accuracy and number of parameters, relative to MLPs.\n",
        "\n",
        "---"
      ]
    },
    {
      "cell_type": "markdown",
      "metadata": {},
      "source": [
        "<br/><br/>\n",
        "\n",
        "\n",
        "# **Question 2: Optional Bonus Question  *(5 Marks, 20% Bonus Marks)***\n",
        "<br/>\n",
        "\n",
        "### **Q2.1 *(2 Points)***\n",
        "\n",
        "Experiment with different activation functions (ReLU, Tanh, Sigmoid) and analyse their impact on training performance."
      ]
    },
    {
      "cell_type": "code",
      "execution_count": null,
      "metadata": {},
      "outputs": [],
      "source": [
        "# Insert Code Here"
      ]
    },
    {
      "cell_type": "markdown",
      "metadata": {},
      "source": [
        "***Add Discussion Notes Here***\n",
        "\n",
        "---"
      ]
    },
    {
      "cell_type": "markdown",
      "metadata": {},
      "source": [
        "<br/>\n",
        "\n",
        "### **Q2.2 *(1 Point)***\n",
        "\n",
        "In particular, focus your analysis on the Sigmoid activation function and discuss your finding of training with and without Xavier initialisation. You may use the provided code for Xavier initialisation for this."
      ]
    },
    {
      "cell_type": "code",
      "execution_count": null,
      "metadata": {},
      "outputs": [],
      "source": [
        "# Now We Will Apply Xavier Initialisation to the Model\n",
        "def init_weights(m):\n",
        "    if isinstance(m, nn.Linear):\n",
        "        nn.init.xavier_uniform_(m.weight)\n",
        "        if m.bias is not None:\n",
        "            nn.init.zeros_(m.bias)\n",
        "\n",
        "# Lets Apply the Xavier Initialisation to the Model\n",
        "model.apply(init_weights)\n",
        "\n",
        "# Now We Will Train & Test the Model Again with the Xavier Initialisation\n",
        "epochs = 5\n",
        "\n",
        "# Training & Testing Loop\n",
        "for t in range(epochs):\n",
        "    print(f\"Epoch {t+1}\\n-------------------------------\")\n",
        "    train(train_dataloader, model, loss_fn, optimizer)\n",
        "    test(test_dataloader, model, loss_fn)\n",
        "print(\"Done!\")\n",
        "\n",
        "# Insert Code Here"
      ]
    },
    {
      "cell_type": "markdown",
      "metadata": {},
      "source": [
        "***Add Discussion Notes Here***\n",
        "\n",
        "---"
      ]
    },
    {
      "cell_type": "markdown",
      "metadata": {},
      "source": [
        "<br/>\n",
        "\n",
        "### **Q2.3 *(1 Point)***\n",
        "\n",
        "Additionally, plot both the gradient and loss curves for your experiments. For gradient analysis, you may select one representative layer to monitor throughout training and briefly explain your choice."
      ]
    },
    {
      "cell_type": "code",
      "execution_count": null,
      "metadata": {},
      "outputs": [],
      "source": [
        "# Insert Code Here"
      ]
    },
    {
      "cell_type": "markdown",
      "metadata": {},
      "source": [
        "***Add Discussion Notes Here***\n",
        "\n",
        "---"
      ]
    },
    {
      "cell_type": "markdown",
      "metadata": {},
      "source": [
        "<br/>\n",
        "\n",
        "### **Q2.4 *(1 Point)***\n",
        "\n",
        "**Discuss how gradients and loss behave across the network for different activation functions and initialisation methods if you see any difference.**"
      ]
    },
    {
      "cell_type": "markdown",
      "metadata": {},
      "source": [
        "***Add Discussion Notes Here***\n",
        "\n",
        "---"
      ]
    },
    {
      "cell_type": "markdown",
      "metadata": {
        "id": "S16_96RS3O1H"
      },
      "source": [
        "<br/><br/>\n",
        "## **Question 3: Proposal for Practical Applications *(40%)***\n",
        "\n",
        "In this part of the assignment you need to write a report about an application of a computer vision algorithm or technique. This can either be an application that you are aware of and possibly even use, such as a phone app, or it could be speculation -- an application that you think would benefit from using computer vision.\n",
        "\n",
        "**Begin by choosing a particular CV idea, method or problem area, such as:**\n",
        "\n",
        "**a.** Removing noise in an image.\n",
        "\n",
        "**b.** Increasing the resolution of an image.\n",
        "\n",
        "**c.** Detecting and/or identifying objects in an image.\n",
        "\n",
        "**d.** Segmenting images into constituents parts.\n",
        "\n",
        "**e.** Estimating the depth of an object from one or more images.\n",
        "\n",
        "**f.** Estimating the motion of two objects in different frames.\n",
        "\n",
        "**g.** Others\n",
        "<br/><br/>\n",
        "\n",
        "\n",
        "Now think about various ways your chosen technique could be used. Here is a list of possible applications you could consider, but you are not restricted to this list, and there will be credit given for sensible invention outside this list (but no penalty if you don't want to be \"inventive\"): image editing systems in your phone; enhancement of images from old film; obstacle detection and avoidance for a domestic robot; facial recognition for phone security; cancer detection; person tracking and re-identification in security cameras; sport decision review systems; road-sign detection and interpretation for self-driving cars.\n",
        "<br/>\n",
        "\n",
        "This is a little bit back-to-front from what might happen in real life in which the application usually motivates the solution, but the emphasis here is on an understanding of the CV technique.\n",
        "<br/><br/>\n",
        "\n",
        "\n",
        "**You need to write a short report *(800 words max)* in which you do the following:**\n",
        "\n",
        "**1.** Clearly define the CV problem/area and describe its application scenarios.\n",
        "\n",
        "**2.** Briefly describe a solution based on image processing, computer vision and/or machine learning.\n",
        "\n",
        "**3.** Discuss the advantages and the limitations of this method in various application scenarios.\n",
        "\n",
        "**4.** It is important that you will define a useful metric to evaluate the performance of your method and discuss its tradeoff specific to the problem you have chosen.\n",
        "\n",
        "**5.** You are welcome to cite existing work and take inspiration form literature addressing the problem you choose.\n",
        "<br/><br/>\n",
        "\n",
        "\n",
        "**For Q3, you do not need to implement your solution. Just write the proposal/report and submit it as a separate PDF.**\n",
        "\n",
        "- **Hint 1:** Submit an individual pdf report for question 3.\n",
        "\n",
        "- **Hint 2:** Organise your report well.\n",
        "\n",
        "- **Hint 3:** You can use diagrams, flow charts or other figures in your report for better understanding of your solution.  \n",
        "\n"
      ]
    }
  ],
  "metadata": {
    "colab": {
      "provenance": []
    },
    "kernelspec": {
      "display_name": ".venv",
      "language": "python",
      "name": "python3"
    },
    "language_info": {
      "codemirror_mode": {
        "name": "ipython",
        "version": 3
      },
      "file_extension": ".py",
      "mimetype": "text/x-python",
      "name": "python",
      "nbconvert_exporter": "python",
      "pygments_lexer": "ipython3",
      "version": "3.12.3"
    }
  },
  "nbformat": 4,
  "nbformat_minor": 0
}
