{
 "cells": [
  {
   "cell_type": "markdown",
   "metadata": {},
   "source": [
    "# **A Series of Numpy Problems**"
   ]
  },
  {
   "cell_type": "code",
   "execution_count": 43,
   "metadata": {},
   "outputs": [],
   "source": [
    "# Libraries\n",
    "import numpy as np"
   ]
  },
  {
   "cell_type": "code",
   "execution_count": null,
   "metadata": {},
   "outputs": [],
   "source": [
    "# Print out the Numpy Version & Buid Info\n",
    "print(f\"NumPy Version Number: {np.__version__}\\n Numpy Build Info: {np.show_config()}\")"
   ]
  },
  {
   "cell_type": "code",
   "execution_count": 7,
   "metadata": {},
   "outputs": [
    {
     "name": "stdout",
     "output_type": "stream",
     "text": [
      "Original Array: \n",
      "[1 2 3]\n",
      "Test if None of the Elements are Zero:\n",
      "True\n"
     ]
    }
   ],
   "source": [
    "# Test Data\n",
    "A = np.array([1,2,3])\n",
    "print(\"Original Array: \")\n",
    "print(A)\n",
    "\n",
    "# Test Whether the Array Contains Zeros\n",
    "print(\"Test if None of the Elements are Zero:\")\n",
    "print(np.all(A))"
   ]
  },
  {
   "cell_type": "code",
   "execution_count": 18,
   "metadata": {},
   "outputs": [
    {
     "name": "stdout",
     "output_type": "stream",
     "text": [
      "Matrix A: \n",
      " [[3.77914480e-315 0.00000000e+000 1.01855798e-312 9.54898106e-313]\n",
      " [1.03977794e-312 1.01855798e-312 1.23075756e-312 1.20953760e-312]\n",
      " [1.06099790e-312 9.76118064e-313 1.18831764e-312 1.90979621e-312]]\n",
      "Matrix B: \n",
      " [[2 2 2]\n",
      " [2 2 2]\n",
      " [2 2 2]]\n",
      "Matrix C: \n",
      " [[0. 0. 0.]\n",
      " [0. 0. 0.]]\n"
     ]
    }
   ],
   "source": [
    "# Empty Array\n",
    "A = np.empty((3,4))\n",
    "print(f\"Matrix A: \\n {A}\")\n",
    "\n",
    "# Full Array\n",
    "B = np.full((3,3),2)\n",
    "print(f\"Matrix B: \\n {B}\")\n",
    "\n",
    "# Array of Zeros\n",
    "C = np.zeros((2,3))\n",
    "print(f\"Matrix C: \\n {C}\")"
   ]
  },
  {
   "cell_type": "code",
   "execution_count": 25,
   "metadata": {},
   "outputs": [
    {
     "name": "stdout",
     "output_type": "stream",
     "text": [
      "False\n",
      "True\n",
      "Number of Sequences: 3\n"
     ]
    }
   ],
   "source": [
    "# Look for a Specific Row inside an Array\n",
    "A = np.full((3,3),2)\n",
    "print([1,2,4] in A.tolist())\n",
    "print([2,2,2] in A.tolist())\n",
    "\n",
    "# Count A Specific Row inside an Array\n",
    "count = repr(A).count(\"2, 2, 2\")\n",
    "print(f\"Number of Sequences: {count}\")"
   ]
  },
  {
   "cell_type": "code",
   "execution_count": 31,
   "metadata": {},
   "outputs": [
    {
     "name": "stdout",
     "output_type": "stream",
     "text": [
      "Shape of B: (3, 3)\n",
      "Maximum Value: 8\n",
      "Minimum Value: 1\n"
     ]
    }
   ],
   "source": [
    "# Preparing a Matrix\n",
    "B = np.matrix('[1,2,3; 4,7,2; 8,5,6]')\n",
    "\n",
    "# Get Number of Rows & Columns\n",
    "print(f\"Shape of B: {B.shape}\")\n",
    "\n",
    "# Find the Maximum Number\n",
    "print(f\"Maximum Value: {B.max()}\")\n",
    "\n",
    "# Find the Minimum Number\n",
    "print(f\"Minimum Value: {B.min()}\")"
   ]
  },
  {
   "cell_type": "code",
   "execution_count": 33,
   "metadata": {},
   "outputs": [
    {
     "name": "stdout",
     "output_type": "stream",
     "text": [
      "Sum of Values: 38\n",
      "Sum of Diagonal: 14\n",
      "Trace of Matrix: 14\n"
     ]
    }
   ],
   "source": [
    "# Finding the Sum of the Entire Matrix\n",
    "print(f\"Sum of Values: {B.sum()}\")\n",
    "\n",
    "# Find Sum of Diagonal\n",
    "diagonal = B.diagonal()\n",
    "print(f\"Sum of Diagonal: {np.sum(diagonal)}\")\n",
    "\n",
    "# Find Trace = Sum\n",
    "print(f\"Trace of Matrix: {np.trace(B)}\")"
   ]
  },
  {
   "cell_type": "code",
   "execution_count": 51,
   "metadata": {},
   "outputs": [
    {
     "name": "stdout",
     "output_type": "stream",
     "text": [
      "Matrix Multiplication of B & C: \n",
      " [[20 21 32]\n",
      " [56  6 53]\n",
      " [80 46 75]]\n",
      "\n",
      "Matrix Multiplication of B & C: \n",
      " [[20 21 32]\n",
      " [56  6 53]\n",
      " [80 46 75]]\n",
      "\n",
      "Matrix Multiplication of B & C: \n",
      " [[20 21 32]\n",
      " [56  6 53]\n",
      " [80 46 75]]\n",
      "\n",
      "Eigenvalues: [11.24862343  5.09285054 -5.34147398]\n",
      "Eigenvectors:\n",
      " [[ 0.24511338  0.75669314  0.02645665]\n",
      " [ 0.40622202 -0.03352363 -0.84078293]\n",
      " [ 0.88028581 -0.65291014  0.54072554]]\n"
     ]
    }
   ],
   "source": [
    "# ISML Matrix Referesher\n",
    "C = np.matrix('[6,1,1; 4,-2,5; 2,8,7]')\n",
    "\n",
    "# Matrix Multiplication\n",
    "print(f\"Matrix Multiplication of B & C: \\n {np.matmul(B, C)}\\n\")\n",
    "print(f\"Matrix Multiplication of B & C: \\n {B@C}\\n\")\n",
    "print(f\"Matrix Multiplication of B & C: \\n {np.dot(B, C)}\\n\")\n",
    "\n",
    "# Finding the EigenValues & EigenVectors of a Matrix\n",
    "eigenvalues, eigenvectors = np.linalg.eig(C)\n",
    "print(\"Eigenvalues:\", eigenvalues)\n",
    "print(\"Eigenvectors:\\n\", eigenvectors)"
   ]
  },
  {
   "cell_type": "code",
   "execution_count": 52,
   "metadata": {},
   "outputs": [
    {
     "name": "stdout",
     "output_type": "stream",
     "text": [
      "Determinant of C:-306.0\n",
      "Inverse of C:\n",
      " [[ 0.17647059 -0.00326797 -0.02287582]\n",
      " [ 0.05882353 -0.13071895  0.08496732]\n",
      " [-0.11764706  0.1503268   0.05228758]]\n"
     ]
    }
   ],
   "source": [
    "# Finding the Determinant of a Matrix\n",
    "print(f\"Determinant of C:{np.linalg.det(C)}\")\n",
    "\n",
    "# How to Find the Inverse of a Matrix\n",
    "print(f\"Inverse of C:\\n {np.linalg.inv(C)}\")\n"
   ]
  }
 ],
 "metadata": {
  "kernelspec": {
   "display_name": "Python 3",
   "language": "python",
   "name": "python3"
  },
  "language_info": {
   "codemirror_mode": {
    "name": "ipython",
    "version": 3
   },
   "file_extension": ".py",
   "mimetype": "text/x-python",
   "name": "python",
   "nbconvert_exporter": "python",
   "pygments_lexer": "ipython3",
   "version": "3.8.10"
  }
 },
 "nbformat": 4,
 "nbformat_minor": 2
}
